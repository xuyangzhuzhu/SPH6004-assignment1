{
 "cells": [
  {
   "cell_type": "code",
   "execution_count": 1,
   "metadata": {},
   "outputs": [],
   "source": [
    "import pandas as pd\n",
    "import numpy as np\n",
    "import tensorflow as tf\n",
    "from sklearn.ensemble import RandomForestClassifier\n",
    "from sklearn.model_selection import train_test_split\n",
    "from keras.regularizers import l2\n",
    "import keras\n",
    "from keras.callbacks import LearningRateScheduler\n",
    "from tensorflow.keras.utils import to_categorical\n",
    "from tensorflow.keras.optimizers import Adam\n",
    "from sklearn.metrics import accuracy_score\n",
    "from sklearn.tree import DecisionTreeClassifier\n",
    "from sklearn.ensemble import StackingClassifier\n",
    "from sklearn.linear_model import LogisticRegression\n",
    "from sklearn.ensemble import GradientBoostingClassifier\n",
    "\n",
    "from keras.layers.convolutional import Conv1D\n",
    "from keras.layers.convolutional import MaxPooling1D\n",
    "from tensorflow.keras.utils import to_categorical\n",
    "from tensorflow.keras.optimizers import SGD\n",
    "from keras.optimizers import adam_v2\n",
    "from sklearn.model_selection import train_test_split\n",
    "import keras_metrics\n",
    "from keras import metrics\n",
    "from keras import backend as K\n",
    "import keras\n",
    "from keras.callbacks import LearningRateScheduler\n",
    "from tensorflow.keras.utils import to_categorical\n",
    "from tensorflow.keras.optimizers import Adam\n",
    "from keras.callbacks import EarlyStopping"
   ]
  },
  {
   "cell_type": "code",
   "execution_count": 2,
   "metadata": {},
   "outputs": [],
   "source": [
    "df_train = pd.read_csv('train_preprocessed-nonPCA.csv',index_col=[0])\n",
    "df_test = pd.read_csv('test_preprocessed-nonPCA.csv',index_col=[0])"
   ]
  },
  {
   "cell_type": "code",
   "execution_count": 18,
   "metadata": {},
   "outputs": [
    {
     "name": "stdout",
     "output_type": "stream",
     "text": [
      "(40736, 118)\n",
      "(40736,)\n",
      "(10184, 118)\n",
      "(10184,)\n"
     ]
    }
   ],
   "source": [
    "X_train=df_train.iloc[:,:-1].values\n",
    "y_train=df_train.iloc[:,-1].values\n",
    "X_test=df_test.iloc[:,:-1].values\n",
    "y_test=df_test.iloc[:,-1].values\n",
    "\n",
    "# print the shape of the split dataset\n",
    "print(X_train.shape)\n",
    "print(y_train.shape)\n",
    "print(X_test.shape)\n",
    "print(y_test.shape)"
   ]
  },
  {
   "cell_type": "code",
   "execution_count": 8,
   "metadata": {},
   "outputs": [],
   "source": [
    "from keras.models import Sequential\n",
    "from keras.layers import Dense\n",
    "from keras.layers import Flatten\n",
    "from keras.layers import Dropout"
   ]
  },
  {
   "cell_type": "code",
   "execution_count": 21,
   "metadata": {},
   "outputs": [],
   "source": [
    "from sklearn.base import BaseEstimator, ClassifierMixin\n",
    "from tensorflow.keras.wrappers.scikit_learn import KerasClassifier\n",
    "\n",
    "\n",
    "class KerasCNNClassifier(BaseEstimator, ClassifierMixin):\n",
    "    def __init__(self, build_fn=None, **kwargs):\n",
    "        self.build_fn = build_fn\n",
    "        self.kwargs = kwargs\n",
    "        self.model = None\n",
    "\n",
    "    def fit(self, X, y, **kwargs):\n",
    "        if self.build_fn is None:\n",
    "            raise ValueError(\"Cannot build Keras model: build_fn is None\")\n",
    "\n",
    "        # Create a KerasClassifier, which is a scikit-learn wrapper around Keras models\n",
    "        self.model = KerasClassifier(build_fn=self.build_fn, **self.kwargs)\n",
    "        \n",
    "        # Fit the Keras model\n",
    "        self.model.fit(X, y, **kwargs)\n",
    "        \n",
    "        # Set the classes_ attribute\n",
    "        self.classes_ = np.unique(y)\n",
    "        \n",
    "        return self\n",
    "\n",
    "    def predict(self, X, **kwargs):\n",
    "        # Use the Keras model to make predictions\n",
    "        return self.model.predict(X, **kwargs)\n",
    "\n",
    "    def predict_proba(self, X, **kwargs):\n",
    "        # Use the Keras model to make probability predictions\n",
    "        return self.model.predict_proba(X, **kwargs)\n",
    "\n",
    "    def score(self, X, y, **kwargs):\n",
    "        # Use the score method of the Keras model\n",
    "        return self.model.score(X, y, **kwargs)\n",
    "\n",
    "# You must define your CNN architecture in a function\n",
    "def create_cnn_model():\n",
    "    # Define your CNN model architecture here\n",
    "    # ...\n",
    "    return model"
   ]
  },
  {
   "cell_type": "code",
   "execution_count": 22,
   "metadata": {},
   "outputs": [
    {
     "name": "stdout",
     "output_type": "stream",
     "text": [
      "   6/1273 [..............................] - ETA: 14s - loss: 1.2464 - accuracy: 0.4635"
     ]
    },
    {
     "name": "stderr",
     "output_type": "stream",
     "text": [
      "D:\\anaconda3\\lib\\site-packages\\ipykernel_launcher.py:16: DeprecationWarning: KerasClassifier is deprecated, use Sci-Keras (https://github.com/adriangb/scikeras) instead. See https://www.adriangb.com/scikeras/stable/migration.html for help migrating.\n",
      "  app.launch_new_instance()\n"
     ]
    },
    {
     "name": "stdout",
     "output_type": "stream",
     "text": [
      "1273/1273 [==============================] - 10s 8ms/step - loss: 1.1872 - accuracy: 0.4852\n",
      "   7/1019 [..............................] - ETA: 8s - loss: 1.0830 - accuracy: 0.5268 "
     ]
    },
    {
     "name": "stderr",
     "output_type": "stream",
     "text": [
      "D:\\anaconda3\\lib\\site-packages\\ipykernel_launcher.py:16: DeprecationWarning: KerasClassifier is deprecated, use Sci-Keras (https://github.com/adriangb/scikeras) instead. See https://www.adriangb.com/scikeras/stable/migration.html for help migrating.\n",
      "  app.launch_new_instance()\n"
     ]
    },
    {
     "name": "stdout",
     "output_type": "stream",
     "text": [
      "1019/1019 [==============================] - 8s 8ms/step - loss: 1.1741 - accuracy: 0.4916\n",
      "255/255 [==============================] - 1s 3ms/step\n",
      "   8/1019 [..............................] - ETA: 7s - loss: 1.2108 - accuracy: 0.4844"
     ]
    },
    {
     "name": "stderr",
     "output_type": "stream",
     "text": [
      "D:\\anaconda3\\lib\\site-packages\\ipykernel_launcher.py:16: DeprecationWarning: KerasClassifier is deprecated, use Sci-Keras (https://github.com/adriangb/scikeras) instead. See https://www.adriangb.com/scikeras/stable/migration.html for help migrating.\n",
      "  app.launch_new_instance()\n"
     ]
    },
    {
     "name": "stdout",
     "output_type": "stream",
     "text": [
      "1019/1019 [==============================] - 8s 8ms/step - loss: 1.1691 - accuracy: 0.4919\n",
      "255/255 [==============================] - 1s 3ms/step\n",
      "  15/1019 [..............................] - ETA: 7s - loss: 1.1630 - accuracy: 0.5167"
     ]
    },
    {
     "name": "stderr",
     "output_type": "stream",
     "text": [
      "D:\\anaconda3\\lib\\site-packages\\ipykernel_launcher.py:16: DeprecationWarning: KerasClassifier is deprecated, use Sci-Keras (https://github.com/adriangb/scikeras) instead. See https://www.adriangb.com/scikeras/stable/migration.html for help migrating.\n",
      "  app.launch_new_instance()\n"
     ]
    },
    {
     "name": "stdout",
     "output_type": "stream",
     "text": [
      "1019/1019 [==============================] - 8s 8ms/step - loss: 1.1650 - accuracy: 0.4942\n",
      "255/255 [==============================] - 1s 4ms/step\n",
      "   8/1019 [..............................] - ETA: 8s - loss: 1.2217 - accuracy: 0.4492 "
     ]
    },
    {
     "name": "stderr",
     "output_type": "stream",
     "text": [
      "D:\\anaconda3\\lib\\site-packages\\ipykernel_launcher.py:16: DeprecationWarning: KerasClassifier is deprecated, use Sci-Keras (https://github.com/adriangb/scikeras) instead. See https://www.adriangb.com/scikeras/stable/migration.html for help migrating.\n",
      "  app.launch_new_instance()\n"
     ]
    },
    {
     "name": "stdout",
     "output_type": "stream",
     "text": [
      "1019/1019 [==============================] - 8s 8ms/step - loss: 1.1618 - accuracy: 0.4952\n",
      "255/255 [==============================] - 1s 5ms/step\n",
      "   8/1019 [..............................] - ETA: 8s - loss: 1.2028 - accuracy: 0.4727"
     ]
    },
    {
     "name": "stderr",
     "output_type": "stream",
     "text": [
      "D:\\anaconda3\\lib\\site-packages\\ipykernel_launcher.py:16: DeprecationWarning: KerasClassifier is deprecated, use Sci-Keras (https://github.com/adriangb/scikeras) instead. See https://www.adriangb.com/scikeras/stable/migration.html for help migrating.\n",
      "  app.launch_new_instance()\n"
     ]
    },
    {
     "name": "stdout",
     "output_type": "stream",
     "text": [
      "1019/1019 [==============================] - 8s 8ms/step - loss: 1.1543 - accuracy: 0.5005\n",
      "255/255 [==============================] - 1s 4ms/step\n"
     ]
    },
    {
     "data": {
      "text/plain": [
       "StackingClassifier(estimators=[('rf',\n",
       "                                RandomForestClassifier(min_samples_split=6,\n",
       "                                                       n_estimators=200,\n",
       "                                                       random_state=42)),\n",
       "                               ('cnn',\n",
       "                                KerasCNNClassifier(build_fn=<function create_cnn_model at 0x0000017900807EE8>))],\n",
       "                   final_estimator=LogisticRegression(C=0.1))"
      ]
     },
     "execution_count": 22,
     "metadata": {},
     "output_type": "execute_result"
    }
   ],
   "source": [
    "estimators = [\n",
    "    ('rf', RandomForestClassifier(n_estimators=200, max_depth=None, min_samples_split=6, random_state=42)),\n",
    "    ('cnn', KerasCNNClassifier(build_fn=create_cnn_model, epochs=10, batch_size=32, verbose=0))  # Adjust these parameters as needed\n",
    "]\n",
    "\n",
    "# Create the stacking model\n",
    "stacking_classifier = StackingClassifier(\n",
    "    estimators=estimators, final_estimator=LogisticRegression(C=0.1)\n",
    ")\n",
    "\n",
    "# Train the stacking model\n",
    "stacking_classifier.fit(X_train, y_train)"
   ]
  },
  {
   "cell_type": "code",
   "execution_count": 23,
   "metadata": {},
   "outputs": [
    {
     "name": "stdout",
     "output_type": "stream",
     "text": [
      "319/319 [==============================] - 2s 5ms/step\n"
     ]
    }
   ],
   "source": [
    "y_pred = stacking_classifier.predict(X_test)"
   ]
  },
  {
   "cell_type": "code",
   "execution_count": 24,
   "metadata": {},
   "outputs": [
    {
     "name": "stdout",
     "output_type": "stream",
     "text": [
      "Classification Report:\n",
      "              precision    recall  f1-score   support\n",
      "\n",
      "           0       0.56      0.67      0.61      3400\n",
      "           1       0.42      0.01      0.02      2028\n",
      "           2       0.42      0.66      0.51      3162\n",
      "           3       0.58      0.38      0.46      1594\n",
      "\n",
      "    accuracy                           0.49     10184\n",
      "   macro avg       0.49      0.43      0.40     10184\n",
      "weighted avg       0.49      0.49      0.44     10184\n",
      "\n"
     ]
    }
   ],
   "source": [
    "from sklearn.metrics import confusion_matrix, accuracy_score, precision_score, recall_score, f1_score, classification_report\n",
    "def evaluate(y_pred, y_test):\n",
    "    print(\"Classification Report:\")\n",
    "    print(classification_report(y_test, y_pred))\n",
    "evaluate(y_pred, y_test)"
   ]
  },
  {
   "cell_type": "code",
   "execution_count": 25,
   "metadata": {},
   "outputs": [
    {
     "name": "stdout",
     "output_type": "stream",
     "text": [
      "319/319 [==============================] - 1s 3ms/step\n",
      "Multi-class AUROC (One-vs-Rest): 0.7220348863483614\n"
     ]
    }
   ],
   "source": [
    "from sklearn.preprocessing import label_binarize\n",
    "y_bin = label_binarize(y_test, classes=[0, 1, 2, 3])\n",
    "y_pred_proba = stacking_classifier.predict_proba(X_test)\n",
    "from sklearn.metrics import roc_auc_score\n",
    "auroc = roc_auc_score(y_test, y_pred_proba, multi_class=\"ovr\", average=\"macro\")\n",
    "print(f\"Multi-class AUROC (One-vs-Rest): {auroc}\")"
   ]
  },
  {
   "cell_type": "code",
   "execution_count": null,
   "metadata": {},
   "outputs": [],
   "source": []
  },
  {
   "cell_type": "code",
   "execution_count": 6,
   "metadata": {},
   "outputs": [
    {
     "name": "stderr",
     "output_type": "stream",
     "text": [
      "D:\\anaconda3\\lib\\site-packages\\sklearn\\linear_model\\_logistic.py:818: ConvergenceWarning: lbfgs failed to converge (status=1):\n",
      "STOP: TOTAL NO. of ITERATIONS REACHED LIMIT.\n",
      "\n",
      "Increase the number of iterations (max_iter) or scale the data as shown in:\n",
      "    https://scikit-learn.org/stable/modules/preprocessing.html\n",
      "Please also refer to the documentation for alternative solver options:\n",
      "    https://scikit-learn.org/stable/modules/linear_model.html#logistic-regression\n",
      "  extra_warning_msg=_LOGISTIC_SOLVER_CONVERGENCE_MSG,\n"
     ]
    },
    {
     "data": {
      "text/plain": [
       "StackingClassifier(estimators=[('rf',\n",
       "                                RandomForestClassifier(min_samples_split=6,\n",
       "                                                       n_estimators=200,\n",
       "                                                       random_state=42)),\n",
       "                               ('gf',\n",
       "                                GradientBoostingClassifier(learning_rate=1.0,\n",
       "                                                           max_depth=1,\n",
       "                                                           random_state=42))],\n",
       "                   final_estimator=LogisticRegression(C=0.1))"
      ]
     },
     "execution_count": 6,
     "metadata": {},
     "output_type": "execute_result"
    }
   ],
   "source": [
    "estimators = [\n",
    "    ('rf', RandomForestClassifier(n_estimators=200, max_depth=None, min_samples_split=6,random_state=42)),\n",
    "    ('gf', GradientBoostingClassifier(n_estimators=100, learning_rate=1.0, max_depth=1, random_state=42))\n",
    "]\n",
    "\n",
    "# 创建堆叠模型\n",
    "stacking_classifier = StackingClassifier(\n",
    "    estimators=estimators, final_estimator=LogisticRegression(C=0.1)\n",
    ")\n",
    "\n",
    "# 训练堆叠模型\n",
    "stacking_classifier.fit(X_train, y_train)"
   ]
  },
  {
   "cell_type": "code",
   "execution_count": 7,
   "metadata": {},
   "outputs": [],
   "source": [
    "y_pred = stacking_classifier.predict(X_test)"
   ]
  },
  {
   "cell_type": "code",
   "execution_count": 8,
   "metadata": {},
   "outputs": [
    {
     "name": "stdout",
     "output_type": "stream",
     "text": [
      "Classification Report:\n",
      "              precision    recall  f1-score   support\n",
      "\n",
      "           0       0.55      0.67      0.60      3400\n",
      "           1       0.50      0.01      0.01      2028\n",
      "           2       0.42      0.65      0.51      3162\n",
      "           3       0.55      0.37      0.44      1594\n",
      "\n",
      "    accuracy                           0.49     10184\n",
      "   macro avg       0.50      0.42      0.39     10184\n",
      "weighted avg       0.50      0.49      0.43     10184\n",
      "\n"
     ]
    }
   ],
   "source": [
    "from sklearn.metrics import confusion_matrix, accuracy_score, precision_score, recall_score, f1_score, classification_report\n",
    "def evaluate(y_pred, y_test):\n",
    "    print(\"Classification Report:\")\n",
    "    print(classification_report(y_test, y_pred))\n",
    "evaluate(y_pred, y_test)"
   ]
  },
  {
   "cell_type": "code",
   "execution_count": 9,
   "metadata": {},
   "outputs": [
    {
     "name": "stdout",
     "output_type": "stream",
     "text": [
      "Multi-class AUROC (One-vs-Rest): 0.7165031897058827\n"
     ]
    }
   ],
   "source": [
    "from sklearn.preprocessing import label_binarize\n",
    "y_bin = label_binarize(y_test, classes=[0, 1, 2, 3])\n",
    "y_pred_proba = stacking_classifier.predict_proba(X_test)\n",
    "from sklearn.metrics import roc_auc_score\n",
    "auroc = roc_auc_score(y_test, y_pred_proba, multi_class=\"ovr\", average=\"macro\")\n",
    "print(f\"Multi-class AUROC (One-vs-Rest): {auroc}\")\n"
   ]
  },
  {
   "cell_type": "code",
   "execution_count": null,
   "metadata": {},
   "outputs": [],
   "source": []
  },
  {
   "cell_type": "code",
   "execution_count": null,
   "metadata": {},
   "outputs": [],
   "source": []
  },
  {
   "cell_type": "code",
   "execution_count": 6,
   "metadata": {},
   "outputs": [
    {
     "data": {
      "text/plain": [
       "StackingClassifier(estimators=[('rf',\n",
       "                                RandomForestClassifier(min_samples_split=6,\n",
       "                                                       n_estimators=200,\n",
       "                                                       random_state=42)),\n",
       "                               ('dt',\n",
       "                                DecisionTreeClassifier(criterion='entropy',\n",
       "                                                       max_depth=10,\n",
       "                                                       min_samples_leaf=5,\n",
       "                                                       min_samples_split=5))],\n",
       "                   final_estimator=LogisticRegression(C=0.1))"
      ]
     },
     "execution_count": 6,
     "metadata": {},
     "output_type": "execute_result"
    }
   ],
   "source": [
    "estimators = [\n",
    "    ('rf', RandomForestClassifier(n_estimators=200, max_depth=None, min_samples_split=6,random_state=42)),\n",
    "    ('dt', DecisionTreeClassifier(criterion='entropy', max_depth=10, min_samples_leaf=5,min_samples_split=5))\n",
    "]\n",
    "\n",
    "# 创建堆叠模型\n",
    "stacking_classifier = StackingClassifier(\n",
    "    estimators=estimators, final_estimator=LogisticRegression(C=0.1)\n",
    ")\n",
    "\n",
    "# 训练堆叠模型\n",
    "stacking_classifier.fit(X_train, y_train)"
   ]
  },
  {
   "cell_type": "code",
   "execution_count": 8,
   "metadata": {},
   "outputs": [],
   "source": [
    "y_pred = stacking_classifier.predict(X_test)"
   ]
  },
  {
   "cell_type": "code",
   "execution_count": 9,
   "metadata": {},
   "outputs": [
    {
     "name": "stdout",
     "output_type": "stream",
     "text": [
      "Classification Report:\n",
      "              precision    recall  f1-score   support\n",
      "\n",
      "           0       0.54      0.67      0.60      3400\n",
      "           1       0.38      0.00      0.00      2028\n",
      "           2       0.41      0.64      0.50      3162\n",
      "           3       0.54      0.36      0.43      1594\n",
      "\n",
      "    accuracy                           0.48     10184\n",
      "   macro avg       0.47      0.42      0.38     10184\n",
      "weighted avg       0.47      0.48      0.42     10184\n",
      "\n"
     ]
    }
   ],
   "source": [
    "from sklearn.metrics import confusion_matrix, accuracy_score, precision_score, recall_score, f1_score, classification_report\n",
    "def evaluate(y_pred, y_test):\n",
    "    print(\"Classification Report:\")\n",
    "    print(classification_report(y_test, y_pred))\n",
    "evaluate(y_pred, y_test)"
   ]
  },
  {
   "cell_type": "code",
   "execution_count": 10,
   "metadata": {},
   "outputs": [
    {
     "name": "stdout",
     "output_type": "stream",
     "text": [
      "Multi-class AUROC (One-vs-Rest): 0.7079736201274476\n"
     ]
    }
   ],
   "source": [
    "from sklearn.preprocessing import label_binarize\n",
    "y_bin = label_binarize(y_test, classes=[0, 1, 2, 3])\n",
    "y_pred_proba = stacking_classifier.predict_proba(X_test)\n",
    "from sklearn.metrics import roc_auc_score\n",
    "auroc = roc_auc_score(y_test, y_pred_proba, multi_class=\"ovr\", average=\"macro\")\n",
    "print(f\"Multi-class AUROC (One-vs-Rest): {auroc}\")"
   ]
  },
  {
   "cell_type": "code",
   "execution_count": null,
   "metadata": {},
   "outputs": [],
   "source": []
  }
 ],
 "metadata": {
  "kernelspec": {
   "display_name": "Python 3",
   "language": "python",
   "name": "python3"
  },
  "language_info": {
   "codemirror_mode": {
    "name": "ipython",
    "version": 3
   },
   "file_extension": ".py",
   "mimetype": "text/x-python",
   "name": "python",
   "nbconvert_exporter": "python",
   "pygments_lexer": "ipython3",
   "version": "3.7.6"
  }
 },
 "nbformat": 4,
 "nbformat_minor": 4
}
